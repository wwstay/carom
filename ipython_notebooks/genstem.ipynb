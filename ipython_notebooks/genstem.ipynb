{
 "cells": [
  {
   "cell_type": "code",
   "execution_count": 2,
   "metadata": {
    "collapsed": false
   },
   "outputs": [],
   "source": [
    "import pandas as pd\n",
    "import urllib2\n",
    "from bs4 import BeautifulSoup\n",
    "from cookielib import CookieJar"
   ]
  },
  {
   "cell_type": "code",
   "execution_count": 3,
   "metadata": {
    "collapsed": true
   },
   "outputs": [],
   "source": [
    "#These links contain common USPS abbreviations from which I build my stemming dictionary\n",
    "link1 = \"http://pe.usps.com/text/pub28/28apc_002.htm\"\n",
    "link2 = \"http://pe.usps.com/text/pub28/28apc_003.htm\"\n",
    "#To prevent an error, we needed to enable cookies and send request\n",
    "cj = CookieJar()\n",
    "agent_ = 'Mozilla/5.0 (Windows NT 6.1; rv:54.0) Gecko/20100101 Firefox/54.0'"
   ]
  },
  {
   "cell_type": "code",
   "execution_count": 4,
   "metadata": {
    "collapsed": false
   },
   "outputs": [],
   "source": [
    "#Open the links\n",
    "opener = urllib2.build_opener(urllib2.HTTPCookieProcessor(cj))\n",
    "opener.addheaders = [('user-agent',agent_)]\n",
    "pageC1response = opener.open(link1)\n",
    "pageC2response = opener.open(link2)"
   ]
  },
  {
   "cell_type": "code",
   "execution_count": 5,
   "metadata": {
    "collapsed": false
   },
   "outputs": [
    {
     "name": "stderr",
     "output_type": "stream",
     "text": [
      "/usr/lib/python2.7/dist-packages/bs4/__init__.py:166: UserWarning: No parser was explicitly specified, so I'm using the best available HTML parser for this system (\"lxml\"). This usually isn't a problem, but if you run this code on another system, or in a different virtual environment, it may use a different parser and behave differently.\n",
      "\n",
      "To get rid of this warning, change this:\n",
      "\n",
      " BeautifulSoup([your markup])\n",
      "\n",
      "to this:\n",
      "\n",
      " BeautifulSoup([your markup], \"lxml\")\n",
      "\n",
      "  markup_type=markup_type))\n"
     ]
    }
   ],
   "source": [
    "soupC1 = BeautifulSoup(pageC1response)\n",
    "soupC2 = BeautifulSoup(pageC2response)"
   ]
  },
  {
   "cell_type": "code",
   "execution_count": 6,
   "metadata": {
    "collapsed": false
   },
   "outputs": [],
   "source": [
    "tablC1 = soupC1.table\n",
    "tablC2 = soupC2.table"
   ]
  },
  {
   "cell_type": "code",
   "execution_count": 7,
   "metadata": {
    "collapsed": false
   },
   "outputs": [],
   "source": [
    "#Visit link 1 to see the structure of the table involved. This algo assigns the abbreviations to a dictionary\n",
    "def Get_abbrvsC1(tabl):\n",
    "    Abbrv = {}\n",
    "    state = \"0\"\n",
    "    for row in tabl.findAll(\"tr\"):\n",
    "        cells = row.findAll(\"td\")\n",
    "        if not (state in Abbrv):\n",
    "            Abbrv[state] = []\n",
    "        if len(cells)<2:\n",
    "            #print \"\\t\", cells[0].find(text=True)\n",
    "            Abbrv[state].append(cells[0].find(text=True).strip().lower())\n",
    "        elif len(cells)>3:\n",
    "            continue\n",
    "        else:\n",
    "            state = cells[2].find(text=True).strip().lower()\n",
    "            if not (state in Abbrv):\n",
    "                Abbrv[state] = []\n",
    "            Abbrv[state].append(cells[1].find(text=True).strip().lower())\n",
    "            #print cells[0].find(text=True),\"\\t\", cells[1].find(text=True),\"\\t\",cells[2].find(text=True)\n",
    "    del Abbrv[\"\"]\n",
    "    del Abbrv[\"0\"]\n",
    "    return pd.Series(Abbrv)"
   ]
  },
  {
   "cell_type": "code",
   "execution_count": 8,
   "metadata": {
    "collapsed": false
   },
   "outputs": [],
   "source": [
    "#Link 2 is simpler, column length is same in each column for table. Assigns abbreviations from link 2\n",
    "def Get_abbrvsC2(tabl):\n",
    "    Abbrv={}\n",
    "    for row in tabl.findAll(\"tr\"):\n",
    "        cells = row.findAll(\"td\")\n",
    "        if len(cells)==2:\n",
    "            Abbrv[cells[1].find(text=True).strip().strip(\"*\").lower()]=[cells[0].find(text=True).strip().lower()]\n",
    "    del Abbrv['']\n",
    "    del Abbrv['approved abbreviation']\n",
    "    return pd.Series(Abbrv)       "
   ]
  },
  {
   "cell_type": "code",
   "execution_count": 9,
   "metadata": {
    "collapsed": false
   },
   "outputs": [],
   "source": [
    "abbrvSC2 = Get_abbrvsC2(tablC2)"
   ]
  },
  {
   "cell_type": "code",
   "execution_count": 10,
   "metadata": {
    "collapsed": false
   },
   "outputs": [],
   "source": [
    "abbrvSC1 = Get_abbrvsC1(tablC1)\n",
    "for key_ in abbrvSC1.keys().values:\n",
    "    if key_[-1]=='s':\n",
    "        if key_[:-1] in abbrvSC1:\n",
    "            abbrvSC1[key_[:-1]] = abbrvSC1[key_[:-1]] + abbrvSC1[key_]\n",
    "            del abbrvSC1[key_]"
   ]
  },
  {
   "cell_type": "code",
   "execution_count": 11,
   "metadata": {
    "collapsed": false
   },
   "outputs": [],
   "source": [
    "StemWords = pd.concat([abbrvSC1,abbrvSC2])"
   ]
  },
  {
   "cell_type": "code",
   "execution_count": 12,
   "metadata": {
    "collapsed": false
   },
   "outputs": [],
   "source": [
    "#Returns the word if not in the dictionary, else assigns the abbreviated/key part of it (so avenue -> ave)\n",
    "def findidx(StemWords,word):\n",
    "    A = []\n",
    "    for key,value in StemWords.items():\n",
    "        if word in value:\n",
    "            return key\n",
    "        else:\n",
    "            return word\n",
    "    #return StemWords[A].index.values"
   ]
  },
  {
   "cell_type": "code",
   "execution_count": 13,
   "metadata": {
    "collapsed": false
   },
   "outputs": [
    {
     "name": "stdout",
     "output_type": "stream",
     "text": [
      "shubh\n"
     ]
    }
   ],
   "source": [
    "print findidx(StemWords,\"shubh\")"
   ]
  },
  {
   "cell_type": "code",
   "execution_count": 14,
   "metadata": {
    "collapsed": false
   },
   "outputs": [
    {
     "data": {
      "text/plain": [
       "shl                            [shl, shoal, shls, shoals]\n",
       "shr             [shoar, shore, shr, shoars, shores, shrs]\n",
       "skwy                                             [skyway]\n",
       "smt                          [smt, sumit, sumitt, summit]\n",
       "spg     [spg, spng, spring, sprng, spgs, spngs, spring...\n",
       "spur                                        [spur, spurs]\n",
       "sq            [sq, sqr, sqre, squ, square, sqrs, squares]\n",
       "st                       [street, strt, st, str, streets]\n",
       "sta                            [sta, station, statn, stn]\n",
       "stra    [stra, strav, straven, stravenue, stravn, strv...\n",
       "strm                               [stream, streme, strm]\n",
       "side                                               [side]\n",
       "slip                                               [slip]\n",
       "spc                                               [space]\n",
       "ste                                               [suite]\n",
       "stop                                               [stop]\n",
       "dtype: object"
      ]
     },
     "execution_count": 14,
     "metadata": {},
     "output_type": "execute_result"
    }
   ],
   "source": [
    "StemWords.loc[StemWords.index.str.startswith('s')]"
   ]
  },
  {
   "cell_type": "code",
   "execution_count": 15,
   "metadata": {
    "collapsed": false
   },
   "outputs": [],
   "source": [
    "#Added some extra words to the dictionary, such that if it finds any of these words we can represent it as such\n",
    "StemWords[\"frt\"] = [\"fort\",\"frt\",\"forts\",\"frts\",\"ft\"]\n",
    "StemWords[\"n\"] = [\"north\",\"nrth\",\"n\"]\n",
    "StemWords[\"s\"] = [\"south\",\"s\"]\n",
    "StemWords[\"e\"] = [\"east\",\"e\"]\n",
    "StemWords[\"w\"] = [\"west\",\"w\"]\n",
    "StemWords[\"hwy\"] = [\"highway\",\"hgwy\",\"hway\",\"hw\",\"hwy\",\"highways\",\"hgwys\",\"hways\",\"hws\",\"hwys\"]\n",
    "StemWords[\"hotel\"] = [\"hotel\",\"hotels\",\"hotl\"]\n",
    "StemWords[\"hostel\"] = [\"hostel\",\"hostels\",\"hostls\",\"hostl\"]"
   ]
  },
  {
   "cell_type": "code",
   "execution_count": 16,
   "metadata": {
    "collapsed": false
   },
   "outputs": [],
   "source": [
    "#Store the dictionary to be used later\n",
    "StemWords = StemWords.sort_index()\n",
    "StemWords.to_csv(\"stemming_dict.csv\")"
   ]
  },
  {
   "cell_type": "code",
   "execution_count": 17,
   "metadata": {
    "collapsed": false
   },
   "outputs": [
    {
     "data": {
      "text/plain": [
       "frt     fort\n",
       "frt      frt\n",
       "frt    forts\n",
       "frt     frts\n",
       "frt       ft\n",
       "dtype: object"
      ]
     },
     "execution_count": 17,
     "metadata": {},
     "output_type": "execute_result"
    }
   ],
   "source": [
    "StemWords[\"frt\"]"
   ]
  },
  {
   "cell_type": "code",
   "execution_count": null,
   "metadata": {
    "collapsed": true
   },
   "outputs": [],
   "source": []
  }
 ],
 "metadata": {
  "kernelspec": {
   "display_name": "Python 2",
   "language": "python",
   "name": "python2"
  },
  "language_info": {
   "codemirror_mode": {
    "name": "ipython",
    "version": 2
   },
   "file_extension": ".py",
   "mimetype": "text/x-python",
   "name": "python",
   "nbconvert_exporter": "python",
   "pygments_lexer": "ipython2",
   "version": "2.7.12"
  }
 },
 "nbformat": 4,
 "nbformat_minor": 2
}
