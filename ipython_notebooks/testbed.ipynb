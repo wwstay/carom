{
 "cells": [
  {
   "cell_type": "code",
   "execution_count": 1,
   "metadata": {
    "collapsed": true
   },
   "outputs": [],
   "source": [
    "import pandas as pd\n",
    "import numpy as np\n",
    "import cPickle as pk"
   ]
  },
  {
   "cell_type": "code",
   "execution_count": 2,
   "metadata": {
    "collapsed": true
   },
   "outputs": [],
   "source": [
    "taap_pname, taap_paddress = pk.load(open(\"emfeatures_taap_LONdistributions.pk\",\"rb\"))\n",
    "hotbeds_pname, hotbeds_paddress = pk.load(open(\"emfeatures_hotbeds_LONdistributions.pk\",\"rb\"))"
   ]
  },
  {
   "cell_type": "code",
   "execution_count": 17,
   "metadata": {
    "collapsed": false
   },
   "outputs": [
    {
     "data": {
      "text/plain": [
       "0.09983378338248236"
      ]
     },
     "execution_count": 17,
     "metadata": {},
     "output_type": "execute_result"
    }
   ],
   "source": [
    "hotbeds_pname[\"victoria\"]"
   ]
  },
  {
   "cell_type": "code",
   "execution_count": 19,
   "metadata": {
    "collapsed": true
   },
   "outputs": [],
   "source": [
    "s1name = [\"comfort\",\"inn\",\"victoria\"]\n",
    "s2name = [\"comfort\",\"inn\",\"victoria\"]\n",
    "s23name = [\"victoria\",\"inn\"]\n",
    "\n",
    "s1addr = [\"belgrave\",\"rd\",\"1824\"]\n",
    "s2addr= [\"18\",\"24\",\"belgrave\",\"rd\"]\n",
    "s23addr = [\"6567\",\"belgrave\",\"rd\"]"
   ]
  },
  {
   "cell_type": "code",
   "execution_count": 26,
   "metadata": {
    "collapsed": false
   },
   "outputs": [
    {
     "data": {
      "text/plain": [
       "set()"
      ]
     },
     "execution_count": 26,
     "metadata": {},
     "output_type": "execute_result"
    }
   ],
   "source": [
    "common12 = set(s1name).intersection(s2name)\n",
    "uncommon121 = set(s1name) - set(s2name)\n",
    "uncommon122 = set(s2name) - set(s1name)\n",
    "\n",
    "\n",
    "common13 = set(s1name).intersection(s23name)\n",
    "uncommon131 = set(s1name) - set(s23name)\n",
    "uncommon132 = set(s23name) - set(s1name)\n"
   ]
  },
  {
   "cell_type": "code",
   "execution_count": null,
   "metadata": {
    "collapsed": true
   },
   "outputs": [],
   "source": [
    "for array in arrays:\n",
    "    "
   ]
  }
 ],
 "metadata": {
  "kernelspec": {
   "display_name": "Python 2",
   "language": "python",
   "name": "python2"
  },
  "language_info": {
   "codemirror_mode": {
    "name": "ipython",
    "version": 2
   },
   "file_extension": ".py",
   "mimetype": "text/x-python",
   "name": "python",
   "nbconvert_exporter": "python",
   "pygments_lexer": "ipython2",
   "version": "2.7.12"
  }
 },
 "nbformat": 4,
 "nbformat_minor": 2
}
